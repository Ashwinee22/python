{
 "cells": [
  {
   "cell_type": "code",
   "execution_count": 3,
   "id": "bf690ad3-3b5b-4911-92ec-8b32d5710dad",
   "metadata": {},
   "outputs": [
    {
     "data": {
      "text/plain": [
       "{'chicago': 3.5, 'new york': 7, 'LA': 6}"
      ]
     },
     "execution_count": 3,
     "metadata": {},
     "output_type": "execute_result"
    }
   ],
   "source": [
    "#dictionary\n",
    "city_population = {\n",
    "    \"chicago\" : 3.5,\n",
    "    \"new york\" : 7,\n",
    "    \"LA\" : 6\n",
    "}\n",
    "city_population"
   ]
  },
  {
   "cell_type": "code",
   "execution_count": 5,
   "id": "8dae92ba-6064-46ac-8a77-93e8d21ac221",
   "metadata": {},
   "outputs": [
    {
     "data": {
      "text/plain": [
       "3.5"
      ]
     },
     "execution_count": 5,
     "metadata": {},
     "output_type": "execute_result"
    }
   ],
   "source": [
    "city_population[\"chicago\"]"
   ]
  },
  {
   "cell_type": "code",
   "execution_count": 7,
   "id": "15353985-1c61-4be5-bf4c-50040242974f",
   "metadata": {},
   "outputs": [
    {
     "data": {
      "text/plain": [
       "7"
      ]
     },
     "execution_count": 7,
     "metadata": {},
     "output_type": "execute_result"
    }
   ],
   "source": [
    "city_population[\"new york\"]"
   ]
  },
  {
   "cell_type": "code",
   "execution_count": 11,
   "id": "52e3f2cb-d33b-4e41-b767-a2459e520eb4",
   "metadata": {},
   "outputs": [
    {
     "data": {
      "text/plain": [
       "dict_keys(['chicago', 'new york', 'LA'])"
      ]
     },
     "execution_count": 11,
     "metadata": {},
     "output_type": "execute_result"
    }
   ],
   "source": [
    "city_population.keys()"
   ]
  },
  {
   "cell_type": "code",
   "execution_count": 13,
   "id": "028255ca-e451-4019-a68d-6fd61bd9c4ba",
   "metadata": {},
   "outputs": [
    {
     "data": {
      "text/plain": [
       "dict_values([3.5, 7, 6])"
      ]
     },
     "execution_count": 13,
     "metadata": {},
     "output_type": "execute_result"
    }
   ],
   "source": [
    "city_population.values()"
   ]
  },
  {
   "cell_type": "code",
   "execution_count": 15,
   "id": "1ed1ee44-2729-4999-b8b0-2a3d0693dc2f",
   "metadata": {},
   "outputs": [
    {
     "data": {
      "text/plain": [
       "dict_items([('chicago', 3.5), ('new york', 7), ('LA', 6)])"
      ]
     },
     "execution_count": 15,
     "metadata": {},
     "output_type": "execute_result"
    }
   ],
   "source": [
    "city_population.items()"
   ]
  },
  {
   "cell_type": "code",
   "execution_count": 17,
   "id": "ed7019a7-5c4b-43dc-9fcf-48f214de07bb",
   "metadata": {},
   "outputs": [
    {
     "data": {
      "text/plain": [
       "True"
      ]
     },
     "execution_count": 17,
     "metadata": {},
     "output_type": "execute_result"
    }
   ],
   "source": [
    "\"chicago\" in city_population# to check whether ut is in dictinary or not"
   ]
  },
  {
   "cell_type": "code",
   "execution_count": 19,
   "id": "3f249e87-2d4d-4b5a-94a2-b0c7077e9613",
   "metadata": {},
   "outputs": [
    {
     "data": {
      "text/plain": [
       "{'chicago': 3.5, 'new york': 7, 'LA': 30}"
      ]
     },
     "execution_count": 19,
     "metadata": {},
     "output_type": "execute_result"
    }
   ],
   "source": [
    "#change dictionary items #to update new value.\n",
    "city_population[\"LA\"]=30\n",
    "city_population"
   ]
  },
  {
   "cell_type": "code",
   "execution_count": 21,
   "id": "10319e88-31b0-49f4-994f-896a6c9735e1",
   "metadata": {},
   "outputs": [
    {
     "data": {
      "text/plain": [
       "{'chicago': 30, 'new york': 7, 'LA': 30}"
      ]
     },
     "execution_count": 21,
     "metadata": {},
     "output_type": "execute_result"
    }
   ],
   "source": [
    "city_population.update({\"chicago\":30})#another way to update value.\n",
    "city_population"
   ]
  },
  {
   "cell_type": "code",
   "execution_count": 23,
   "id": "380cf09e-11c7-496a-8937-3b32c7ba4503",
   "metadata": {},
   "outputs": [
    {
     "data": {
      "text/plain": [
       "{'chicago': 30, 'new york': 7, 'LA': 30, 'kathmandu': 20}"
      ]
     },
     "execution_count": 23,
     "metadata": {},
     "output_type": "execute_result"
    }
   ],
   "source": [
    "#to add new item in dict\n",
    "city_population[\"kathmandu\"]=20\n",
    "city_population#remember that key should not be duplicate."
   ]
  },
  {
   "cell_type": "code",
   "execution_count": 56,
   "id": "504ff18b-3ac3-4dc8-9e0b-a191eb0283c2",
   "metadata": {},
   "outputs": [
    {
     "name": "stdout",
     "output_type": "stream",
     "text": [
      "<class '__main__.Student'>\n"
     ]
    }
   ],
   "source": [
    "#OOP CONCEPTS MOST IMPORTANT\n",
    "#lets creeate a class student\n",
    "class Student:\n",
    " student1=Student()#creating object of class Student here the object is student1\n",
    "student2=Student()#another object of class\n",
    "print(type(student1))"
   ]
  },
  {
   "cell_type": "code",
   "execution_count": 52,
   "id": "437e3dcf-5bc4-4624-9d58-c765fd00ea45",
   "metadata": {},
   "outputs": [
    {
     "name": "stdout",
     "output_type": "stream",
     "text": [
      "school of data science\n",
      "school of data science\n"
     ]
    }
   ],
   "source": [
    "class Student:\n",
    "    school=\"school of data science\"\n",
    "student1=Student()#creating object from class\n",
    "student2=Student()\n",
    "print(student1.school)\n",
    "print(student2.school)"
   ]
  },
  {
   "cell_type": "code",
   "execution_count": 7,
   "id": "eeef28cb-0b77-4726-897e-a5d52bd3ae53",
   "metadata": {},
   "outputs": [
    {
     "name": "stdout",
     "output_type": "stream",
     "text": [
      "ash\n",
      "ahsgs\n",
      "2\n",
      "1\n"
     ]
    }
   ],
   "source": [
    "#CONSTRUCTOR\n",
    "class Student:\n",
    "    def __init__(self,name,level):#yo chai euta constructor banaune syntax nai ho self le chai hami yei kam gardai cham vanera indicate garxa vane aru value chai tala deko parameters anusar hunxa fr --init chai sadhai halnu parne syntax nai ho\n",
    "          self.name = name\n",
    "          self.level = level\n",
    "student1=Student(\"ash\",1)\n",
    "student2=Student(\"ahsgs\",2)\n",
    "print(student1.name)\n",
    "print(student2.name)\n",
    "print(student2.level)\n",
    "print(student1.level)"
   ]
  },
  {
   "cell_type": "code",
   "execution_count": 11,
   "id": "868e3c9a-e6cb-4b05-8b86-d0bf60d07ff1",
   "metadata": {},
   "outputs": [
    {
     "name": "stdout",
     "output_type": "stream",
     "text": [
      "Student(name=Ash, level=1)\n",
      "Student(name=Jessica, level=2)\n"
     ]
    }
   ],
   "source": [
    "#__str__ method\n",
    "class Student:\n",
    "    def __init__(self, name, level):\n",
    "        self.name = name\n",
    "        self.level = level\n",
    "\n",
    "    def __str__(self):\n",
    "        return f\"Student(name={self.name}, level={self.level})\"#in this syntax if we dont use f f indicates formatted string. if we dont use f we will get the output as (name,level) not the value so its important to use f.\n",
    "\n",
    "# Creating instances of Student\n",
    "student1 = Student(\"Ash\", 1)\n",
    "student2 = Student(\"Jessica\", 2)\n",
    "\n",
    "# Using the __str__ method implicitly\n",
    "print(student1)  \n",
    "print(student2)  \n"
   ]
  },
  {
   "cell_type": "code",
   "execution_count": 13,
   "id": "6e9c28cc-eb26-4186-b97c-9147749a558a",
   "metadata": {},
   "outputs": [
    {
     "name": "stdout",
     "output_type": "stream",
     "text": [
      "Buddy says Woof!\n",
      "Buddy is 3 years old.\n"
     ]
    }
   ],
   "source": [
    "#defining and using method in python\n",
    "class Dog:\n",
    "    def __init__(self, name, age):\n",
    "        self.name = name\n",
    "        self.age = age\n",
    "\n",
    "    def bark(self):#creating method\n",
    "        return f\"{self.name} says Woof!\"\n",
    "\n",
    "    def describe(self):\n",
    "        return f\"{self.name} is {self.age} years old.\"\n",
    "\n",
    "# Creating an instance of the Dog class\n",
    "my_dog = Dog(\"Buddy\", 3)\n",
    "\n",
    "# Calling methods on the instance\n",
    "print(my_dog.bark())       \n",
    "print(my_dog.describe())   \n"
   ]
  },
  {
   "cell_type": "code",
   "execution_count": 21,
   "id": "8bf998fd-f08d-481b-9d34-fcf1559347b6",
   "metadata": {},
   "outputs": [
    {
     "name": "stdout",
     "output_type": "stream",
     "text": [
      "This is a shape with color blue.\n",
      "0\n"
     ]
    }
   ],
   "source": [
    "class Shape:\n",
    "    def __init__(self, color):\n",
    "        self.color = color\n",
    "\n",
    "    def area(self):\n",
    "        return 0  # Default area for a generic shape is 0\n",
    "\n",
    "    def describe(self):\n",
    "        return f\"This is a shape with color {self.color}.\"\n",
    "\n",
    "# Example usage:\n",
    "shape = Shape(\"blue\")\n",
    "print(shape.describe()) \n",
    "print(shape.area())      \n"
   ]
  },
  {
   "cell_type": "code",
   "execution_count": 1,
   "id": "c0a03a4a-aa15-4ef2-bf7f-170c4642e6ae",
   "metadata": {},
   "outputs": [
    {
     "ename": "IndentationError",
     "evalue": "expected an indented block after function definition on line 2 (1346416734.py, line 3)",
     "output_type": "error",
     "traceback": [
      "\u001b[1;36m  Cell \u001b[1;32mIn[1], line 3\u001b[1;36m\u001b[0m\n\u001b[1;33m    self.name=name\u001b[0m\n\u001b[1;37m    ^\u001b[0m\n\u001b[1;31mIndentationError\u001b[0m\u001b[1;31m:\u001b[0m expected an indented block after function definition on line 2\n"
     ]
    }
   ],
   "source": [
    "class Student:\n",
    "    def __init__(self,name,age):\n",
    "    self.name=name\n",
    "    self.age=age\n",
    "    def describe(self)\n",
    "    return f\"student name is {self.name} and age is {self.age}\"\n",
    "student=Student(\"ashwinee\",22)\n",
    "print(student.describe())"
   ]
  },
  {
   "cell_type": "code",
   "execution_count": null,
   "id": "12bfdf3a-97ae-40ac-94f0-2e5157497928",
   "metadata": {},
   "outputs": [],
   "source": []
  }
 ],
 "metadata": {
  "kernelspec": {
   "display_name": "Python 3 (ipykernel)",
   "language": "python",
   "name": "python3"
  },
  "language_info": {
   "codemirror_mode": {
    "name": "ipython",
    "version": 3
   },
   "file_extension": ".py",
   "mimetype": "text/x-python",
   "name": "python",
   "nbconvert_exporter": "python",
   "pygments_lexer": "ipython3",
   "version": "3.12.4"
  }
 },
 "nbformat": 4,
 "nbformat_minor": 5
}
