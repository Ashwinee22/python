{
 "cells": [
  {
   "cell_type": "code",
   "execution_count": 7,
   "id": "8f8f0eff-cd19-4a72-aeba-6a902341b368",
   "metadata": {
    "editable": true,
    "slideshow": {
     "slide_type": ""
    },
    "tags": []
   },
   "outputs": [
    {
     "name": "stdout",
     "output_type": "stream",
     "text": [
      "sat\n"
     ]
    }
   ],
   "source": [
    "weekdays=[\"sun\",\"mon\",\"tue\",\"wed\",\"thu\",\"fri\",\"sat\"]#negative indexing\n",
    "print( weekdays[-1])"
   ]
  },
  {
   "cell_type": "code",
   "execution_count": 9,
   "id": "ae119d6a-bd16-4cb8-bde8-900773bed06a",
   "metadata": {},
   "outputs": [
    {
     "name": "stdout",
     "output_type": "stream",
     "text": [
      "['mon', 'tue', 'wed']\n"
     ]
    }
   ],
   "source": [
    "weekdays=weekdays[1:4]\n",
    "print(weekdays)"
   ]
  },
  {
   "cell_type": "code",
   "execution_count": 48,
   "id": "3f2ab370-9eaf-4ff9-84cf-6463ec0bb86b",
   "metadata": {},
   "outputs": [
    {
     "data": {
      "text/plain": [
       "False"
      ]
     },
     "execution_count": 48,
     "metadata": {},
     "output_type": "execute_result"
    }
   ],
   "source": [
    "\"mon\" in weekdays"
   ]
  },
  {
   "cell_type": "code",
   "execution_count": 56,
   "id": "39464bb7-f39d-475e-b38b-355517fbba9d",
   "metadata": {},
   "outputs": [
    {
     "data": {
      "text/plain": [
       "[1, 2, 3, 'end of list']"
      ]
     },
     "execution_count": 56,
     "metadata": {},
     "output_type": "execute_result"
    }
   ],
   "source": [
    "my_list=[1,2,3]#inserting items\n",
    "my_list.insert(3,\"end of list\")\n",
    "my_list"
   ]
  },
  {
   "cell_type": "code",
   "execution_count": 62,
   "id": "519baaac-cca3-4023-b139-f21d3f599b5a",
   "metadata": {},
   "outputs": [
    {
     "data": {
      "text/plain": [
       "[1, 2, 3, 4]"
      ]
     },
     "execution_count": 62,
     "metadata": {},
     "output_type": "execute_result"
    }
   ],
   "source": [
    "my_list=[1,2,3]\n",
    "my_list.append(4)#append is used to insert element in end of list\n",
    "my_list"
   ]
  },
  {
   "cell_type": "code",
   "execution_count": 66,
   "id": "2a307858-6470-4d1e-854e-2a8a2cd8649f",
   "metadata": {},
   "outputs": [
    {
     "data": {
      "text/plain": [
       "[1, 2, 3, 4, 100, 200]"
      ]
     },
     "execution_count": 66,
     "metadata": {},
     "output_type": "execute_result"
    }
   ],
   "source": [
    "list_to_add=[100,200]\n",
    "my_list.extend(list_to_add)#extend is used to add another list to list.\n",
    "my_list"
   ]
  },
  {
   "cell_type": "code",
   "execution_count": 68,
   "id": "1dd07f2c-3a76-4e96-9142-f4ab507c6fbd",
   "metadata": {},
   "outputs": [
    {
     "data": {
      "text/plain": [
       "['one', 'two']"
      ]
     },
     "execution_count": 68,
     "metadata": {},
     "output_type": "execute_result"
    }
   ],
   "source": [
    "my_list=[\"one\",\"two\",\"three\"]\n",
    "my_list.remove(\"three\")\n",
    "my_list"
   ]
  },
  {
   "cell_type": "code",
   "execution_count": 70,
   "id": "c3471e8b-9ef8-486f-bf3a-d501572912b2",
   "metadata": {},
   "outputs": [
    {
     "data": {
      "text/plain": [
       "[1, 2]"
      ]
     },
     "execution_count": 70,
     "metadata": {},
     "output_type": "execute_result"
    }
   ],
   "source": [
    "my_list=[1,2,3]\n",
    "my_list.pop()#the last item will be removed using pop()\n",
    "my_list"
   ]
  },
  {
   "cell_type": "code",
   "execution_count": 78,
   "id": "1a7fbfaa-dc96-468d-bcbb-c2eb72300435",
   "metadata": {},
   "outputs": [
    {
     "data": {
      "text/plain": [
       "[2, 3]"
      ]
     },
     "execution_count": 78,
     "metadata": {},
     "output_type": "execute_result"
    }
   ],
   "source": [
    "my_list=[1,2,3]\n",
    "del my_list[0:1]\n",
    "my_list"
   ]
  },
  {
   "cell_type": "code",
   "execution_count": 80,
   "id": "e77b6920-836f-45ce-b231-2b5c8e5a011f",
   "metadata": {},
   "outputs": [
    {
     "data": {
      "text/plain": [
       "['apr', 'feb', 'jan', 'mar']"
      ]
     },
     "execution_count": 80,
     "metadata": {},
     "output_type": "execute_result"
    }
   ],
   "source": [
    "#sorting\n",
    "months_list=[\"jan\",\"feb\",\"mar\",\"apr\"]\n",
    "months_list.sort()\n",
    "months_list"
   ]
  },
  {
   "cell_type": "code",
   "execution_count": 82,
   "id": "a76b210b-6b23-4eb8-b381-46251baa5075",
   "metadata": {},
   "outputs": [
    {
     "data": {
      "text/plain": [
       "['mar', 'jan', 'feb', 'apr']"
      ]
     },
     "execution_count": 82,
     "metadata": {},
     "output_type": "execute_result"
    }
   ],
   "source": [
    "months_list=[\"jan\",\"feb\",\"mar\",\"apr\"]\n",
    "months_list.sort(reverse=True)#reverse=true le desendending order ma output dinxa aghi kei na rakhda assending bata aako thyo \n",
    "months_list"
   ]
  },
  {
   "cell_type": "code",
   "execution_count": null,
   "id": "f413d6c6-49d4-443b-bffd-43eae41638bb",
   "metadata": {},
   "outputs": [],
   "source": []
  }
 ],
 "metadata": {
  "kernelspec": {
   "display_name": "Python 3 (ipykernel)",
   "language": "python",
   "name": "python3"
  },
  "language_info": {
   "codemirror_mode": {
    "name": "ipython",
    "version": 3
   },
   "file_extension": ".py",
   "mimetype": "text/x-python",
   "name": "python",
   "nbconvert_exporter": "python",
   "pygments_lexer": "ipython3",
   "version": "3.12.4"
  }
 },
 "nbformat": 4,
 "nbformat_minor": 5
}
