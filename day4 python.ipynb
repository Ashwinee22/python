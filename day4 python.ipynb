{
 "cells": [
  {
   "cell_type": "code",
   "execution_count": 3,
   "id": "9d6fbb48-b101-40bc-a18a-b6101cb68642",
   "metadata": {},
   "outputs": [
    {
     "name": "stdout",
     "output_type": "stream",
     "text": [
      "x is greater than 2\n"
     ]
    }
   ],
   "source": [
    "#PYTHON CONDITIONALS\n",
    "#IF STATEMENTS\n",
    "x=3\n",
    "if x>2:\n",
    "    print(\"x is greater than 2\")\n"
   ]
  },
  {
   "cell_type": "code",
   "execution_count": 7,
   "id": "90bd4f3e-74d8-4e0d-bb69-1255a99a5985",
   "metadata": {},
   "outputs": [
    {
     "name": "stdout",
     "output_type": "stream",
     "text": [
      "x is greater than 3\n"
     ]
    }
   ],
   "source": [
    "#elif keyword it is similar to else if \n",
    "x=5\n",
    "if x>6:\n",
    "    print(\"x is greater than 5\")\n",
    "elif x>3:\n",
    "    print(\"x is greater than 3\")\n"
   ]
  },
  {
   "cell_type": "code",
   "execution_count": 9,
   "id": "895422ce-82f2-427e-a16b-1294a6685967",
   "metadata": {},
   "outputs": [
    {
     "name": "stdout",
     "output_type": "stream",
     "text": [
      "x is greater than 3\n"
     ]
    }
   ],
   "source": [
    "#else keyword\n",
    "x=5\n",
    "if x>6:\n",
    "    print(\"x is greater than 5\")\n",
    "elif x>3:\n",
    "    print(\"x is greater than 3\")\n",
    "else:\n",
    "    print(\"x is less than or equal to 1\")#aru kunai condition true navaye else use garera print garinxa else lai chai condition chaidaina it is default."
   ]
  },
  {
   "cell_type": "code",
   "execution_count": 13,
   "id": "b5c59db0-ae21-47de-ab1f-4314111c7da3",
   "metadata": {},
   "outputs": [
    {
     "name": "stdout",
     "output_type": "stream",
     "text": [
      "x is equal to 2\n"
     ]
    }
   ],
   "source": [
    "#short hand if is used to print multiple line codes in same line.\n",
    "x=2\n",
    "print(\"x is equal to 2\") if x==2 else print(\"x is not equal to 2\")"
   ]
  },
  {
   "cell_type": "code",
   "execution_count": 33,
   "id": "0681c4b7-fa50-4c38-8486-3ff9e3452bbb",
   "metadata": {},
   "outputs": [
    {
     "name": "stdin",
     "output_type": "stream",
     "text": [
      "whats your age? 18\n"
     ]
    },
    {
     "name": "stdout",
     "output_type": "stream",
     "text": [
      "you can vote\n"
     ]
    }
   ],
   "source": [
    "#question\n",
    "age_input = input(\"whats your age?\")\n",
    "age = int(age_input)\n",
    "if age>=18:\n",
    "    print(\"you can vote\")\n",
    "elif age<18:\n",
    "    print(\"you cant vote\")\n",
    "else:\n",
    "    print(\"age cannot be negative\")\n"
   ]
  },
  {
   "cell_type": "code",
   "execution_count": 35,
   "id": "e65fdf58-730c-4ed0-adc8-a7bbbfe01aa9",
   "metadata": {},
   "outputs": [
    {
     "name": "stdout",
     "output_type": "stream",
     "text": [
      "1\n",
      "2\n",
      "3\n",
      "4\n",
      "5\n",
      "Done counting!\n"
     ]
    }
   ],
   "source": [
    "#PYTHON LOOPS\n",
    "#while loop\n",
    "# Initialize the counter variable\n",
    "counter = 1\n",
    "\n",
    "# Start the while loop\n",
    "while counter <= 5:\n",
    "    print(counter)  # Print the current value of counter\n",
    "    counter += 1    # Increment the counter by 1\n",
    "\n",
    "print(\"Done counting!\")\n",
    "\n"
   ]
  },
  {
   "cell_type": "code",
   "execution_count": 37,
   "id": "1cf2547e-58ff-40fa-97ed-65a9234794fb",
   "metadata": {},
   "outputs": [
    {
     "name": "stdout",
     "output_type": "stream",
     "text": [
      "0\n",
      "1\n",
      "2\n",
      "3\n"
     ]
    }
   ],
   "source": [
    "#break example\n",
    "x=0\n",
    "while x<10:\n",
    "    print(x)\n",
    "    x +=1\n",
    "    if x==4:\n",
    "        break#break le chai loop lai bichma break gardinxa"
   ]
  },
  {
   "cell_type": "code",
   "execution_count": 39,
   "id": "c30b5c74-308e-4b60-9a36-3a914a3df9ec",
   "metadata": {},
   "outputs": [
    {
     "name": "stdout",
     "output_type": "stream",
     "text": [
      "0\n",
      "1\n",
      "2\n",
      "3\n",
      "4\n",
      "5\n",
      "6\n",
      "7\n",
      "8\n",
      "9\n"
     ]
    }
   ],
   "source": [
    "#continuue example\n",
    "x=0\n",
    "while x<10:\n",
    "    print(x)\n",
    "    x +=1\n",
    "    if x==4:\n",
    "        continue #continue le chai x =4 lai print nagari feri continue garxa print garnaa."
   ]
  },
  {
   "cell_type": "code",
   "execution_count": null,
   "id": "cfc6aa6b-a360-444f-b640-99985fd1af2d",
   "metadata": {},
   "outputs": [],
   "source": []
  }
 ],
 "metadata": {
  "kernelspec": {
   "display_name": "Python 3 (ipykernel)",
   "language": "python",
   "name": "python3"
  },
  "language_info": {
   "codemirror_mode": {
    "name": "ipython",
    "version": 3
   },
   "file_extension": ".py",
   "mimetype": "text/x-python",
   "name": "python",
   "nbconvert_exporter": "python",
   "pygments_lexer": "ipython3",
   "version": "3.12.4"
  }
 },
 "nbformat": 4,
 "nbformat_minor": 5
}
