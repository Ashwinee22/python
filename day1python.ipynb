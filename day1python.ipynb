{
 "cells": [
  {
   "cell_type": "code",
   "execution_count": 2,
   "id": "f08e7f56-fbd9-4131-a6ad-4ee47fa14951",
   "metadata": {},
   "outputs": [
    {
     "name": "stdout",
     "output_type": "stream",
     "text": [
      "hello world\n"
     ]
    }
   ],
   "source": [
    "print(\"hello world\")"
   ]
  },
  {
   "cell_type": "code",
   "execution_count": 4,
   "id": "c37a1261-636a-4995-8ca1-2654b9661dc5",
   "metadata": {},
   "outputs": [
    {
     "name": "stdout",
     "output_type": "stream",
     "text": [
      "i love python\n"
     ]
    }
   ],
   "source": [
    "print(\"i love python\")"
   ]
  },
  {
   "cell_type": "code",
   "execution_count": 6,
   "id": "00e0f4f0-6fdb-43a2-91df-54fbd79c4f16",
   "metadata": {},
   "outputs": [],
   "source": [
    "#i hate python\n"
   ]
  },
  {
   "cell_type": "code",
   "execution_count": 14,
   "id": "e452989e-0084-4760-bef5-8041ca539e40",
   "metadata": {},
   "outputs": [
    {
     "name": "stdout",
     "output_type": "stream",
     "text": [
      "x= 2\n",
      "X= 2\n"
     ]
    }
   ],
   "source": [
    "x=2\n",
    "X=2\n",
    "print(\"x=\",x)\n",
    "print(\"X=\",X)"
   ]
  },
  {
   "cell_type": "code",
   "execution_count": 16,
   "id": "d05e9d02-ac33-4f5a-b90b-3cfd90695913",
   "metadata": {},
   "outputs": [
    {
     "name": "stdout",
     "output_type": "stream",
     "text": [
      "language= python\n"
     ]
    }
   ],
   "source": [
    "language=\"python\"\n",
    "print(\"language=\",language)"
   ]
  },
  {
   "cell_type": "code",
   "execution_count": 20,
   "id": "7abcfaca-3d6d-4245-a2f5-ffcfba3bf1d3",
   "metadata": {},
   "outputs": [
    {
     "name": "stdout",
     "output_type": "stream",
     "text": [
      "i am ashwinee\n",
      "my age is 22\n"
     ]
    }
   ],
   "source": [
    "name=\"ashwinee\"\n",
    "age=22\n",
    "print(\"i am\",name)\n",
    "print(\"my age is\",age)"
   ]
  },
  {
   "cell_type": "code",
   "execution_count": 36,
   "id": "44f73427-1075-4a69-80dc-5728a7f9ae26",
   "metadata": {},
   "outputs": [
    {
     "name": "stdout",
     "output_type": "stream",
     "text": [
      "type of variable is <class 'list'>\n"
     ]
    }
   ],
   "source": [
    "fruits=[\"apple\",\"banana\",\"litchi\"]\n",
    "myinfo={\n",
    "    name:\"ashwinee\",\n",
    "     age:22\n",
    "}\n",
    "print(\"type of variable is\",type(fruits))\n"
   ]
  },
  {
   "cell_type": "code",
   "execution_count": 40,
   "id": "32324bd7-4e0e-459c-9480-8048a0287503",
   "metadata": {},
   "outputs": [
    {
     "name": "stdout",
     "output_type": "stream",
     "text": [
      "<class 'int'>\n"
     ]
    }
   ],
   "source": [
    "intvar=int(35.5)\n",
    "print(type(intvar))"
   ]
  },
  {
   "cell_type": "code",
   "execution_count": null,
   "id": "243c2528-691f-479d-90bd-fd1068b0a0f4",
   "metadata": {},
   "outputs": [],
   "source": []
  }
 ],
 "metadata": {
  "kernelspec": {
   "display_name": "Python 3 (ipykernel)",
   "language": "python",
   "name": "python3"
  },
  "language_info": {
   "codemirror_mode": {
    "name": "ipython",
    "version": 3
   },
   "file_extension": ".py",
   "mimetype": "text/x-python",
   "name": "python",
   "nbconvert_exporter": "python",
   "pygments_lexer": "ipython3",
   "version": "3.12.4"
  }
 },
 "nbformat": 4,
 "nbformat_minor": 5
}
